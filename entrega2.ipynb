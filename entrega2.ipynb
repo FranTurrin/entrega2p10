{
 "cells": [
  {
   "cell_type": "code",
   "execution_count": 12,
   "metadata": {},
   "outputs": [],
   "source": [
    "names = \"\"\" Agustin, Yanina, Andrés, Ariadna, Bautista, CAROLINA,\n",
    "CESAR, David, Diego, Dolores, DYLAN, ELIANA, Emanuel, Fabián, Noelia,\n",
    "Francsica', FEDERICO, Fernanda, GONZALO, Nancy \"\"\"\n",
    "goals = [0, 10, 4, 0, 5, 14, 0, 0, 7, 2, 1, 1, 1, 5, 6, 1, 1, 2, 0,\n",
    "11]\n",
    "goals_avoided = [0, 2, 0, 0, 5, 2, 0, 0, 1, 2, 0, 5, 5, 0, 1, 0, 2,\n",
    "3, 0, 0]\n",
    "assists = [0, 5, 1, 0, 5, 2, 0, 0, 1, 2, 1, 5, 5, 0, 1, 0, 2, 3, 1,\n",
    "0]"
   ]
  },
  {
   "cell_type": "markdown",
   "metadata": {},
   "source": [
    "Dentro del módulo \"modulos\" se encuentran todas las funciones que utilicé para llevar a cabo la entrega."
   ]
  },
  {
   "cell_type": "code",
   "execution_count": 13,
   "metadata": {},
   "outputs": [],
   "source": [
    "import modulos"
   ]
  },
  {
   "cell_type": "markdown",
   "metadata": {},
   "source": [
    "Eliminé las comas, pusé los nombres en minúscula y además los separé para poder guardarlos en una estructura."
   ]
  },
  {
   "cell_type": "code",
   "execution_count": 14,
   "metadata": {},
   "outputs": [
    {
     "name": "stdout",
     "output_type": "stream",
     "text": [
      "['agustin', 'yanina', 'andrés', 'ariadna', 'bautista', 'carolina', 'cesar', 'david', 'diego', 'dolores', 'dylan', 'eliana', 'emanuel', 'fabián', 'noelia', \"francsica'\", 'federico', 'fernanda', 'gonzalo', 'nancy']\n"
     ]
    }
   ],
   "source": [
    "names2 = names.lower().replace(\",\", \" \").split()\n",
    "print (names2)"
   ]
  },
  {
   "cell_type": "code",
   "execution_count": 15,
   "metadata": {},
   "outputs": [],
   "source": [
    "# cantidad de partidos\n",
    "partidos = 25"
   ]
  },
  {
   "cell_type": "markdown",
   "metadata": {},
   "source": [
    "Inciso 1: Para guardar la información de todos los jugadores decidí utilizar una lista de diccionarios, creada en\n",
    "\n",
    "la función \"crear_estructura\". "
   ]
  },
  {
   "cell_type": "code",
   "execution_count": 16,
   "metadata": {},
   "outputs": [
    {
     "name": "stdout",
     "output_type": "stream",
     "text": [
      "Nombre Jugador: agustin\n",
      "Goles: 0\n",
      "Goles Evitados: 0\n",
      "Asistencias: 0\n",
      "\n",
      "Nombre Jugador: yanina\n",
      "Goles: 10\n",
      "Goles Evitados: 2\n",
      "Asistencias: 5\n",
      "\n",
      "Nombre Jugador: andrés\n",
      "Goles: 4\n",
      "Goles Evitados: 0\n",
      "Asistencias: 1\n",
      "\n",
      "Nombre Jugador: ariadna\n",
      "Goles: 0\n",
      "Goles Evitados: 0\n",
      "Asistencias: 0\n",
      "\n",
      "Nombre Jugador: bautista\n",
      "Goles: 5\n",
      "Goles Evitados: 5\n",
      "Asistencias: 5\n",
      "\n",
      "Nombre Jugador: carolina\n",
      "Goles: 14\n",
      "Goles Evitados: 2\n",
      "Asistencias: 2\n",
      "\n",
      "Nombre Jugador: cesar\n",
      "Goles: 0\n",
      "Goles Evitados: 0\n",
      "Asistencias: 0\n",
      "\n",
      "Nombre Jugador: david\n",
      "Goles: 0\n",
      "Goles Evitados: 0\n",
      "Asistencias: 0\n",
      "\n",
      "Nombre Jugador: diego\n",
      "Goles: 7\n",
      "Goles Evitados: 1\n",
      "Asistencias: 1\n",
      "\n",
      "Nombre Jugador: dolores\n",
      "Goles: 2\n",
      "Goles Evitados: 2\n",
      "Asistencias: 2\n",
      "\n",
      "Nombre Jugador: dylan\n",
      "Goles: 1\n",
      "Goles Evitados: 0\n",
      "Asistencias: 1\n",
      "\n",
      "Nombre Jugador: eliana\n",
      "Goles: 1\n",
      "Goles Evitados: 5\n",
      "Asistencias: 5\n",
      "\n",
      "Nombre Jugador: emanuel\n",
      "Goles: 1\n",
      "Goles Evitados: 5\n",
      "Asistencias: 5\n",
      "\n",
      "Nombre Jugador: fabián\n",
      "Goles: 5\n",
      "Goles Evitados: 0\n",
      "Asistencias: 0\n",
      "\n",
      "Nombre Jugador: noelia\n",
      "Goles: 6\n",
      "Goles Evitados: 1\n",
      "Asistencias: 1\n",
      "\n",
      "Nombre Jugador: francsica'\n",
      "Goles: 1\n",
      "Goles Evitados: 0\n",
      "Asistencias: 0\n",
      "\n",
      "Nombre Jugador: federico\n",
      "Goles: 1\n",
      "Goles Evitados: 2\n",
      "Asistencias: 2\n",
      "\n",
      "Nombre Jugador: fernanda\n",
      "Goles: 2\n",
      "Goles Evitados: 3\n",
      "Asistencias: 3\n",
      "\n",
      "Nombre Jugador: gonzalo\n",
      "Goles: 0\n",
      "Goles Evitados: 0\n",
      "Asistencias: 1\n",
      "\n",
      "Nombre Jugador: nancy\n",
      "Goles: 11\n",
      "Goles Evitados: 0\n",
      "Asistencias: 0\n",
      "\n"
     ]
    }
   ],
   "source": [
    "\n",
    "listaJugadores = modulos.crear_estructura(names2,goals,goals_avoided,assists)\n",
    "\n",
    "for jugador in listaJugadores:\n",
    "    print(f\"Nombre Jugador: {jugador['Nombre']}\")\n",
    "    print(f\"Goles: {jugador['Goles']}\")\n",
    "    print(f\"Goles Evitados: {jugador['Goles evitados']}\")\n",
    "    print(f\"Asistencias: {jugador['Asistencias']}\")\n",
    "    print(\"\")\n"
   ]
  },
  {
   "cell_type": "markdown",
   "metadata": {},
   "source": [
    "Inciso 2 : Para este inciso utilicé una función la cuál mediante una función lambda busco el jugador con mas goles\n",
    "y guardo su nombre y la cantidad de estos en una lista que es retornada para ser impresa."
   ]
  },
  {
   "cell_type": "code",
   "execution_count": 17,
   "metadata": {},
   "outputs": [
    {
     "name": "stdout",
     "output_type": "stream",
     "text": [
      "El goleador es  carolina  con  14 goles\n"
     ]
    }
   ],
   "source": [
    "\n",
    "goleador = modulos.mas_goles(listaJugadores)\n",
    "\n",
    "print(f\"El goleador es \",goleador[0],\" con \", goleador[1], \"goles\")"
   ]
  },
  {
   "cell_type": "markdown",
   "metadata": {},
   "source": [
    "Inciso 3: Para calcular el promedio ponderado mas influyente de los jugadores yo usé una función que se encarga de esto.  La función calcula el promedio de cada jugador y luego busca el máximo entre estos para luego retornar el nombre del jugador mas influyente del equipo."
   ]
  },
  {
   "cell_type": "code",
   "execution_count": 18,
   "metadata": {},
   "outputs": [
    {
     "name": "stdout",
     "output_type": "stream",
     "text": [
      "El jugador mas influyente del equipo es  carolina\n"
     ]
    }
   ],
   "source": [
    "jugadorInfluyente = modulos.mas_influyente(listaJugadores)\n",
    "print(f\"El jugador mas influyente del equipo es \" , jugadorInfluyente)"
   ]
  },
  {
   "cell_type": "markdown",
   "metadata": {},
   "source": [
    "Inciso 4 y 5: Para calcular ambos promedios (goleador y del equipo) utilicé funciones similares las cuáles toman el total de los goles y lo dividen por la cantidad de partidos. Para calcular la cantidad total del equipo use una funcion aparte la cuál se encarga de esto.  "
   ]
  },
  {
   "cell_type": "code",
   "execution_count": 19,
   "metadata": {},
   "outputs": [
    {
     "name": "stdout",
     "output_type": "stream",
     "text": [
      "El promedio de goles del equipo es de  2.84\n"
     ]
    }
   ],
   "source": [
    "Promedio_equipo = modulos.promEquipo(listaJugadores,partidos)\n",
    "print(f\"El promedio de goles del equipo es de \" , Promedio_equipo)"
   ]
  },
  {
   "cell_type": "code",
   "execution_count": 20,
   "metadata": {},
   "outputs": [
    {
     "name": "stdout",
     "output_type": "stream",
     "text": [
      "El promedio de goles del goleador del equipo es  0.56\n"
     ]
    }
   ],
   "source": [
    "Promedio_goleador = modulos.promGoleador(goleador,partidos)\n",
    "print(f\"El promedio de goles del goleador del equipo es \" , Promedio_goleador)"
   ]
  }
 ],
 "metadata": {
  "kernelspec": {
   "display_name": "Python 3",
   "language": "python",
   "name": "python3"
  },
  "language_info": {
   "codemirror_mode": {
    "name": "ipython",
    "version": 3
   },
   "file_extension": ".py",
   "mimetype": "text/x-python",
   "name": "python",
   "nbconvert_exporter": "python",
   "pygments_lexer": "ipython3",
   "version": "3.11.9"
  }
 },
 "nbformat": 4,
 "nbformat_minor": 2
}
